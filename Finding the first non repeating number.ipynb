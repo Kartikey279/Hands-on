{
 "cells": [
  {
   "cell_type": "markdown",
   "metadata": {},
   "source": [
    "# Finding FIRST Non Repeating Element in given string "
   ]
  },
  {
   "cell_type": "code",
   "execution_count": 21,
   "metadata": {},
   "outputs": [],
   "source": [
    "def fnrf(given_string):                         #fnrf= first non repeating number\n",
    "    dict={}\n",
    "    size= len(given_string)\n",
    "    for i in range(size):\n",
    "        key= given_string[i]\n",
    "        if key not in dict:\n",
    "            dict[key]=1\n",
    "        else:\n",
    "            dict[key]= dict[key]+1\n",
    "    counter= 0        \n",
    "    for i in range(len(given_string)):\n",
    "        if (dict[given_string[i]]==1):\n",
    "            print(given_string[i], counter)\n",
    "    counter= counter+1"
   ]
  },
  {
   "cell_type": "code",
   "execution_count": 22,
   "metadata": {},
   "outputs": [
    {
     "name": "stdout",
     "output_type": "stream",
     "text": [
      "G 0\n",
      "None\n"
     ]
    }
   ],
   "source": [
    "print(fnrf(\"AABBCCDDEEFFGIIJJKKLLMMM\"))"
   ]
  },
  {
   "cell_type": "code",
   "execution_count": null,
   "metadata": {},
   "outputs": [],
   "source": []
  }
 ],
 "metadata": {},
 "nbformat": 4,
 "nbformat_minor": 4
}
