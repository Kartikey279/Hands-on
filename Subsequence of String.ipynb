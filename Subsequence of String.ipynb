{
 "cells": [
  {
   "cell_type": "markdown",
   "metadata": {},
   "source": [
    "# Subsequence of String"
   ]
  },
  {
   "cell_type": "code",
   "execution_count": 6,
   "metadata": {},
   "outputs": [],
   "source": [
    "def subsequence(str1):\n",
    "    if (len(str1)==0):\n",
    "        return [\" \"]\n",
    "    small= subsequence(str1[1:len(str1)])\n",
    "    result=[\" \"]* (2* len(small))\n",
    "    k=0\n",
    "    for i in range(len(small)):\n",
    "        result[k]= small[i]\n",
    "        k=k+1\n",
    "    for i in range(len(small)):\n",
    "        result[k]=str1[0]+small[i]\n",
    "        k=k+1\n",
    "    return result"
   ]
  },
  {
   "cell_type": "code",
   "execution_count": 7,
   "metadata": {},
   "outputs": [
    {
     "name": "stdout",
     "output_type": "stream",
     "text": [
      "[' ', 'e ', 'v ', 've ', 'o ', 'oe ', 'ov ', 'ove ', 'L ', 'Le ', 'Lv ', 'Lve ', 'Lo ', 'Loe ', 'Lov ', 'Love ']\n"
     ]
    }
   ],
   "source": [
    "print(subsequence(\"Love\"))"
   ]
  }
 ],
 "metadata": {
  "kernelspec": {
   "display_name": "Python 3",
   "language": "python",
   "name": "python3"
  },
  "language_info": {
   "codemirror_mode": {
    "name": "ipython",
    "version": 3
   },
   "file_extension": ".py",
   "mimetype": "text/x-python",
   "name": "python",
   "nbconvert_exporter": "python",
   "pygments_lexer": "ipython3",
   "version": "3.8.3"
  }
 },
 "nbformat": 4,
 "nbformat_minor": 4
}
