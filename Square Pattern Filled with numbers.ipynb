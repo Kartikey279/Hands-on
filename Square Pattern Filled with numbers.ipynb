{
 "cells": [
  {
   "cell_type": "markdown",
   "metadata": {},
   "source": [
    "### Print the Square Pattern filled with number"
   ]
  },
  {
   "cell_type": "code",
   "execution_count": 30,
   "metadata": {},
   "outputs": [
    {
     "name": "stdout",
     "output_type": "stream",
     "text": [
      "enter the number of rows: 8\n"
     ]
    }
   ],
   "source": [
    "num = int(input(\"enter the number of rows: \"))"
   ]
  },
  {
   "cell_type": "code",
   "execution_count": 31,
   "metadata": {},
   "outputs": [],
   "source": [
    "n_list = [[0 for x in range(num)] for y in range(num)]"
   ]
  },
  {
   "cell_type": "code",
   "execution_count": 32,
   "metadata": {},
   "outputs": [],
   "source": [
    "n=1"
   ]
  },
  {
   "cell_type": "code",
   "execution_count": 33,
   "metadata": {},
   "outputs": [],
   "source": [
    "low=0"
   ]
  },
  {
   "cell_type": "code",
   "execution_count": 34,
   "metadata": {},
   "outputs": [],
   "source": [
    "high= num-1"
   ]
  },
  {
   "cell_type": "code",
   "execution_count": 35,
   "metadata": {},
   "outputs": [],
   "source": [
    "count = int((num+1)/2)"
   ]
  },
  {
   "cell_type": "code",
   "execution_count": 36,
   "metadata": {},
   "outputs": [
    {
     "name": "stdout",
     "output_type": "stream",
     "text": [
      "1\t2\t3\t4\t5\t6\t7\t8\t\n",
      "28\t29\t30\t31\t32\t33\t34\t9\t\n",
      "27\t48\t49\t50\t51\t52\t35\t10\t\n",
      "26\t47\t60\t61\t62\t53\t36\t11\t\n",
      "25\t46\t59\t64\t63\t54\t37\t12\t\n",
      "24\t45\t58\t57\t56\t55\t38\t13\t\n",
      "23\t44\t43\t42\t41\t40\t39\t14\t\n",
      "22\t21\t20\t19\t18\t17\t16\t15\t\n"
     ]
    }
   ],
   "source": [
    "for i in range(count):\n",
    "    for j in range (low, high+1):\n",
    "        n_list[i][j]= n\n",
    "        n=n+1\n",
    "    for j in range(low+1 , high+1):\n",
    "        n_list[j][high]= n\n",
    "        n=n+1\n",
    "    for j in range(high-1, low-1, -1):\n",
    "        n_list[high][j] = n\n",
    "        n= n+1\n",
    "    for j in range(high-1, low, -1):\n",
    "        n_list[j][low] = n\n",
    "        n= n+1\n",
    "    low= low+1\n",
    "    high= high-1\n",
    "for i in range(num):\n",
    "    for j in range(num):\n",
    "        print(n_list[i][j], end=\"\\t\")\n",
    "    print()    "
   ]
  },
  {
   "cell_type": "code",
   "execution_count": null,
   "metadata": {},
   "outputs": [],
   "source": []
  },
  {
   "cell_type": "code",
   "execution_count": null,
   "metadata": {},
   "outputs": [],
   "source": []
  }
 ],
 "metadata": {
  "kernelspec": {
   "display_name": "Python 3",
   "language": "python",
   "name": "python3"
  },
  "language_info": {
   "codemirror_mode": {
    "name": "ipython",
    "version": 3
   },
   "file_extension": ".py",
   "mimetype": "text/x-python",
   "name": "python",
   "nbconvert_exporter": "python",
   "pygments_lexer": "ipython3",
   "version": "3.8.3"
  }
 },
 "nbformat": 4,
 "nbformat_minor": 4
}
