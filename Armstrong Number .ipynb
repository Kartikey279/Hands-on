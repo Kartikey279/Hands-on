{
 "cells": [
  {
   "cell_type": "markdown",
   "metadata": {},
   "source": [
    "# Armstrong number"
   ]
  },
  {
   "cell_type": "markdown",
   "metadata": {},
   "source": [
    "### To find out if the number is Armstrong Number or not"
   ]
  },
  {
   "cell_type": "markdown",
   "metadata": {},
   "source": [
    "### Armstrong number is a number that is equal to the sum of Nth power of its digits. For example 0, 1, 153, 370, 371 and 407 , 1634 , 8208, 9474, 54748, 92727 are some of  the Armstrong numbers."
   ]
  },
  {
   "cell_type": "code",
   "execution_count": 11,
   "metadata": {},
   "outputs": [
    {
     "name": "stdout",
     "output_type": "stream",
     "text": [
      "Enter the number: 1634\n"
     ]
    }
   ],
   "source": [
    "Number= int(input(\"Enter the number: \"))"
   ]
  },
  {
   "cell_type": "markdown",
   "metadata": {},
   "source": [
    "### 1634= 1*1*1*1+6*6*6*6+3*3*3*3+ 4*4*4*4\n",
    "### 1634= 1634"
   ]
  },
  {
   "cell_type": "code",
   "execution_count": 19,
   "metadata": {},
   "outputs": [],
   "source": [
    "def check_armstrong(num):      \n",
    "    if num in range(1, 10):\n",
    "        return True\n",
    "    order= len(str(num))\n",
    "    sum= 0\n",
    "    original= num\n",
    "    while num>0 :\n",
    "        digit = num% 10\n",
    "        sum += digit**order\n",
    "        num= num //10\n",
    "    if sum ==original:\n",
    "        return True\n",
    "        return False    \n",
    "    "
   ]
  },
  {
   "cell_type": "code",
   "execution_count": 21,
   "metadata": {},
   "outputs": [
    {
     "name": "stdout",
     "output_type": "stream",
     "text": [
      "Number is Armstrong Number\n"
     ]
    }
   ],
   "source": [
    "if check_armstrong(Number):\n",
    "    print('Number is Armstrong Number')\n",
    "else:\n",
    "    print('number is Not Armstrong Number ')"
   ]
  },
  {
   "cell_type": "code",
   "execution_count": null,
   "metadata": {},
   "outputs": [],
   "source": []
  }
 ],
 "metadata": {
  "kernelspec": {
   "display_name": "Python 3",
   "language": "python",
   "name": "python3"
  },
  "language_info": {
   "codemirror_mode": {
    "name": "ipython",
    "version": 3
   },
   "file_extension": ".py",
   "mimetype": "text/x-python",
   "name": "python",
   "nbconvert_exporter": "python",
   "pygments_lexer": "ipython3",
   "version": "3.8.3"
  }
 },
 "nbformat": 4,
 "nbformat_minor": 4
}
