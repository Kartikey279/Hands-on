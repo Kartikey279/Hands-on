{
 "cells": [
  {
   "cell_type": "markdown",
   "metadata": {},
   "source": [
    "# Bubble sort "
   ]
  },
  {
   "cell_type": "code",
   "execution_count": 8,
   "metadata": {},
   "outputs": [],
   "source": [
    "list1 =[]"
   ]
  },
  {
   "cell_type": "code",
   "execution_count": 9,
   "metadata": {},
   "outputs": [
    {
     "name": "stdout",
     "output_type": "stream",
     "text": [
      "how many number you want to enter: 5\n"
     ]
    }
   ],
   "source": [
    "num = int(input(\"how many number you want to enter: \"))"
   ]
  },
  {
   "cell_type": "code",
   "execution_count": 10,
   "metadata": {},
   "outputs": [
    {
     "name": "stdout",
     "output_type": "stream",
     "text": [
      "enter values: \n"
     ]
    }
   ],
   "source": [
    "print(\"enter values: \")"
   ]
  },
  {
   "cell_type": "code",
   "execution_count": 11,
   "metadata": {},
   "outputs": [
    {
     "name": "stdout",
     "output_type": "stream",
     "text": [
      "5\n",
      "4\n",
      "3\n",
      "7\n",
      "8\n"
     ]
    }
   ],
   "source": [
    "for k in range(num):\n",
    "    list1.append(int(input()))"
   ]
  },
  {
   "cell_type": "code",
   "execution_count": 12,
   "metadata": {},
   "outputs": [
    {
     "name": "stdout",
     "output_type": "stream",
     "text": [
      "unsorted list: [5, 4, 3, 7, 8]\n"
     ]
    }
   ],
   "source": [
    "print(\"unsorted list:\", list1)"
   ]
  },
  {
   "cell_type": "code",
   "execution_count": 13,
   "metadata": {},
   "outputs": [
    {
     "name": "stdout",
     "output_type": "stream",
     "text": [
      "[4, 5, 3, 7, 8]\n",
      "[4, 3, 5, 7, 8]\n",
      "[4, 3, 5, 7, 8]\n",
      "[4, 3, 5, 7, 8]\n",
      "\n",
      "[3, 4, 5, 7, 8]\n",
      "[3, 4, 5, 7, 8]\n",
      "[3, 4, 5, 7, 8]\n",
      "\n",
      "[3, 4, 5, 7, 8]\n",
      "[3, 4, 5, 7, 8]\n",
      "\n",
      "[3, 4, 5, 7, 8]\n",
      "\n"
     ]
    }
   ],
   "source": [
    "for j in range (len(list1)-1, 0, -1):\n",
    "    for i in range(j):\n",
    "        if list1[i]> list1[i+1]:\n",
    "            list1[i], list1[i+1]= list1[i+1], list1[i]\n",
    "            print(list1)\n",
    "        else:\n",
    "            print(list1)\n",
    "    print()        "
   ]
  },
  {
   "cell_type": "code",
   "execution_count": 14,
   "metadata": {},
   "outputs": [
    {
     "name": "stdout",
     "output_type": "stream",
     "text": [
      "sorted list: [3, 4, 5, 7, 8]\n"
     ]
    }
   ],
   "source": [
    "print(\"sorted list:\", list1)"
   ]
  },
  {
   "cell_type": "code",
   "execution_count": null,
   "metadata": {},
   "outputs": [],
   "source": []
  }
 ],
 "metadata": {
  "kernelspec": {
   "display_name": "Python 3",
   "language": "python",
   "name": "python3"
  },
  "language_info": {
   "codemirror_mode": {
    "name": "ipython",
    "version": 3
   },
   "file_extension": ".py",
   "mimetype": "text/x-python",
   "name": "python",
   "nbconvert_exporter": "python",
   "pygments_lexer": "ipython3",
   "version": "3.8.3"
  }
 },
 "nbformat": 4,
 "nbformat_minor": 4
}
