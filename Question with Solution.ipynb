{
 "cells": [
  {
   "cell_type": "markdown",
   "metadata": {},
   "source": [
    "### There is a JAR full of candies for sale at a mall counter. JAR has the capacity N, that is JAR can contain maximum N candies when JAR is full. At any point of time. JAR can have M number of Candies where M<=N. Candies are served to the customers. JAR is never remain empty as when last k candies are left. JAR if refilled with new candies in such a way that JAR get full.\n",
    "### Write a code to implement above scenario. Display JAR at counter with available number of candies. Input should be the number of candies one customer can order at point of time. Update the JAR after each purchase and display JAR at Counter.\n",
    "\n",
    "### Output should give number of Candies sold and updated number of Candies in JAR.\n",
    "\n",
    "### If Input is more than candies in JAR, return: “INVALID INPUT”\n",
    "\n",
    "### Given, \n",
    "\n",
    "### N=10, where N is NUMBER OF CANDIES AVAILABLE\n",
    "\n",
    "### K =< 5, where k is number of minimum candies that must be inside JAR ever.\n",
    "\n",
    "### Example 1:(N = 10, k =< 5)\n",
    "\n",
    "### Input Value\n",
    "### 3\n",
    "### Output Value\n",
    "### NUMBER OF CANDIES SOLD : 3\n",
    "### NUMBER OF CANDIES AVAILABLE : 7\n",
    "### Example : (N=10, k<=5)\n",
    "\n",
    "### Input Value\n",
    "### 0\n",
    "### Output Value\n",
    "### INVALID INPUT\n",
    "### NUMBER OF CANDIES LEFT : 10"
   ]
  },
  {
   "cell_type": "code",
   "execution_count": 4,
   "metadata": {},
   "outputs": [
    {
     "name": "stdout",
     "output_type": "stream",
     "text": [
      "5\n"
     ]
    }
   ],
   "source": [
    "total_candies = 10\n",
    "no_of_candies = int(input())"
   ]
  },
  {
   "cell_type": "code",
   "execution_count": 5,
   "metadata": {},
   "outputs": [
    {
     "name": "stdout",
     "output_type": "stream",
     "text": [
      "No. of Candies Sold: 5\n",
      "No. of Candies Left: 5\n"
     ]
    }
   ],
   "source": [
    "if no_of_candies in range(1, 6):\n",
    "    print('No. of Candies Sold:',no_of_candies)\n",
    "    print('No. of Candies Left:',total_candies-no_of_candies)\n",
    "else:\n",
    "    print(\"Invalid Input\")\n",
    "    print('No. of Candies Left:',total_candies)\n"
   ]
  },
  {
   "cell_type": "code",
   "execution_count": null,
   "metadata": {},
   "outputs": [],
   "source": []
  }
 ],
 "metadata": {
  "kernelspec": {
   "display_name": "Python 3",
   "language": "python",
   "name": "python3"
  },
  "language_info": {
   "codemirror_mode": {
    "name": "ipython",
    "version": 3
   },
   "file_extension": ".py",
   "mimetype": "text/x-python",
   "name": "python",
   "nbconvert_exporter": "python",
   "pygments_lexer": "ipython3",
   "version": "3.8.3"
  }
 },
 "nbformat": 4,
 "nbformat_minor": 4
}
