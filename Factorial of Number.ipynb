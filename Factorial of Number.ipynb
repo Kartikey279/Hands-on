{
 "cells": [
  {
   "cell_type": "code",
   "execution_count": 4,
   "metadata": {},
   "outputs": [],
   "source": [
    "##Finding Factorial Of Number (e.g. 5! = 5*4*3*2*1= 120)"
   ]
  },
  {
   "cell_type": "code",
   "execution_count": 37,
   "metadata": {},
   "outputs": [
    {
     "name": "stdout",
     "output_type": "stream",
     "text": [
      "0\n"
     ]
    }
   ],
   "source": [
    "Number = int(input()) #taking input for finding factorial\n",
    "Factorial = 1 #keeping factorial as 1 because we need to apply multiplication "
   ]
  },
  {
   "cell_type": "code",
   "execution_count": 38,
   "metadata": {},
   "outputs": [],
   "source": [
    "#Firstly using If, ElIf for finding factorial"
   ]
  },
  {
   "cell_type": "code",
   "execution_count": 39,
   "metadata": {},
   "outputs": [],
   "source": [
    "#if Number<0:                               \n",
    "#    print(\"The Factorial does not exit\")\n",
    "#elif Number==0:\n",
    " #   print(\"The Factorial is 1\")\n",
    "#else:\n",
    "#   for i in range(1,Number+1):                               #iterating in the range of given number for extracting each item.\n",
    "#      Factorial= Factorial*i                                 #when a number comes it is multiplied with the previous value of Factorial giving it new value till the last item.      \n",
    "#     print(\"The Factorial of\", Number, \"is\", Factorial)"
   ]
  },
  {
   "cell_type": "code",
   "execution_count": 40,
   "metadata": {},
   "outputs": [],
   "source": [
    "# Using Recursion , iteration is good idea but a better way is Recursion"
   ]
  },
  {
   "cell_type": "code",
   "execution_count": 41,
   "metadata": {},
   "outputs": [
    {
     "name": "stdout",
     "output_type": "stream",
     "text": [
      "Factorial of 0 is 1\n"
     ]
    }
   ],
   "source": [
    "def factorial(n):                            #taking factorial as recursive function and passing n as the integer input\n",
    "    if (n==0 or n==1):                      #As the values of 0! and 1! is 1                   \n",
    "        return 1\n",
    "    else:\n",
    "        return n*factorial(n-1)            #multiplying the input with each item till 0 and will return 1 as the last multiplying value and will give output as factorial of number  \n",
    "print(\"Factorial of\", Number, \"is\", factorial(Number)) # passing the number to the recursive funtion to find the result.   "
   ]
  },
  {
   "cell_type": "code",
   "execution_count": null,
   "metadata": {},
   "outputs": [],
   "source": []
  }
 ],
 "metadata": {
  "kernelspec": {
   "display_name": "Python 3",
   "language": "python",
   "name": "python3"
  },
  "language_info": {
   "codemirror_mode": {
    "name": "ipython",
    "version": 3
   },
   "file_extension": ".py",
   "mimetype": "text/x-python",
   "name": "python",
   "nbconvert_exporter": "python",
   "pygments_lexer": "ipython3",
   "version": "3.8.3"
  }
 },
 "nbformat": 4,
 "nbformat_minor": 4
}
