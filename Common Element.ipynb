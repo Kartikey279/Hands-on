{
 "cells": [
  {
   "cell_type": "markdown",
   "metadata": {},
   "source": [
    "## Finding the Common Element in Two Different strings"
   ]
  },
  {
   "cell_type": "code",
   "execution_count": 17,
   "metadata": {},
   "outputs": [],
   "source": [
    "def common_elements(list1, list2):\n",
    "    common=[]\n",
    "    count=0\n",
    "    for i in list1:\n",
    "        for j in list2:\n",
    "            if (i==j):\n",
    "                common.append(i)\n",
    "                count=count+1\n",
    "    print(\"Common element is: \", count)            "
   ]
  },
  {
   "cell_type": "code",
   "execution_count": 18,
   "metadata": {},
   "outputs": [],
   "source": [
    "def common_elements_dict(list1, list2):\n",
    "    dict1={}\n",
    "    for j in list2:\n",
    "        dict1[j]=1\n",
    "    count=0\n",
    "    for i in list1:\n",
    "        if dict1.get(i)!=None:\n",
    "            print(i)\n",
    "            count=count+1\n",
    "    print(\"Common element is: \", count)       \n",
    "        "
   ]
  },
  {
   "cell_type": "code",
   "execution_count": 19,
   "metadata": {},
   "outputs": [],
   "source": [
    "l1 =[1,2,3,4,5,6,7,8,9]\n",
    "l2= [11,12,13,14,15,6,17,18,19]"
   ]
  },
  {
   "cell_type": "code",
   "execution_count": 20,
   "metadata": {},
   "outputs": [
    {
     "name": "stdout",
     "output_type": "stream",
     "text": [
      "6\n",
      "Common element is:  1\n",
      "None\n"
     ]
    }
   ],
   "source": [
    "print(common_elements_dict(l1,l2))"
   ]
  },
  {
   "cell_type": "code",
   "execution_count": 21,
   "metadata": {},
   "outputs": [
    {
     "name": "stdout",
     "output_type": "stream",
     "text": [
      "Common element is:  1\n",
      "None\n"
     ]
    }
   ],
   "source": [
    "print(common_elements(l1,l2))"
   ]
  },
  {
   "cell_type": "code",
   "execution_count": null,
   "metadata": {},
   "outputs": [],
   "source": []
  }
 ],
 "metadata": {
  "kernelspec": {
   "display_name": "Python 3",
   "language": "python",
   "name": "python3"
  },
  "language_info": {
   "codemirror_mode": {
    "name": "ipython",
    "version": 3
   },
   "file_extension": ".py",
   "mimetype": "text/x-python",
   "name": "python",
   "nbconvert_exporter": "python",
   "pygments_lexer": "ipython3",
   "version": "3.8.3"
  }
 },
 "nbformat": 4,
 "nbformat_minor": 4
}
