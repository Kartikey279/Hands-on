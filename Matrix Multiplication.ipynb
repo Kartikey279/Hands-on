{
 "cells": [
  {
   "cell_type": "markdown",
   "metadata": {},
   "source": [
    "# Matrix Multiplication"
   ]
  },
  {
   "cell_type": "code",
   "execution_count": 21,
   "metadata": {},
   "outputs": [
    {
     "name": "stdout",
     "output_type": "stream",
     "text": [
      "enter the row number for matrix1: 5\n",
      "enter the coloumn number for matrix2: 4\n",
      "enter the coloumn number for matrix1 or enter the row number for matrix2: 4\n"
     ]
    }
   ],
   "source": [
    "p= int(input(\"enter the row number for matrix1: \"))\n",
    "q= int(input(\"enter the coloumn number for matrix2: \"))\n",
    "n= int(input(\"enter the coloumn number for matrix1 or enter the row number for matrix2: \"))"
   ]
  },
  {
   "cell_type": "code",
   "execution_count": 22,
   "metadata": {},
   "outputs": [
    {
     "name": "stdout",
     "output_type": "stream",
     "text": [
      "enter the elements of the matrix1: \n"
     ]
    }
   ],
   "source": [
    "print(\"enter the elements of the matrix1: \")"
   ]
  },
  {
   "cell_type": "code",
   "execution_count": 5,
   "metadata": {},
   "outputs": [
    {
     "name": "stdout",
     "output_type": "stream",
     "text": [
      "1\n",
      "2\n",
      "3\n",
      "4\n",
      "5\n",
      "6\n",
      "7\n",
      "8\n",
      "9\n",
      "10\n",
      "11\n",
      "12\n",
      "13\n",
      "14\n",
      "15\n",
      "16\n",
      "17\n",
      "18\n",
      "19\n",
      "20\n"
     ]
    }
   ],
   "source": [
    "matrix1= [[int(input()) for i in range(n)]for j in range(p)]"
   ]
  },
  {
   "cell_type": "code",
   "execution_count": 8,
   "metadata": {},
   "outputs": [
    {
     "name": "stdout",
     "output_type": "stream",
     "text": [
      "[[1, 2, 3, 4], [5, 6, 7, 8], [9, 10, 11, 12], [13, 14, 15, 16], [17, 18, 19, 20]]\n"
     ]
    }
   ],
   "source": [
    "print(matrix1)"
   ]
  },
  {
   "cell_type": "code",
   "execution_count": 9,
   "metadata": {},
   "outputs": [
    {
     "name": "stdout",
     "output_type": "stream",
     "text": [
      "1    2    3    4    \n",
      "5    6    7    8    \n",
      "9    10   11   12   \n",
      "13   14   15   16   \n",
      "17   18   19   20   \n"
     ]
    }
   ],
   "source": [
    "for i in range(p):\n",
    "    for j in range(n):\n",
    "        print(format(matrix1[i][j],\"<5\"), end=\"\")\n",
    "    print()    "
   ]
  },
  {
   "cell_type": "code",
   "execution_count": 10,
   "metadata": {},
   "outputs": [
    {
     "name": "stdout",
     "output_type": "stream",
     "text": [
      "enter the elements in matrix2: \n"
     ]
    }
   ],
   "source": [
    "print(\"enter the elements in matrix2: \")"
   ]
  },
  {
   "cell_type": "code",
   "execution_count": 11,
   "metadata": {},
   "outputs": [
    {
     "name": "stdout",
     "output_type": "stream",
     "text": [
      "20\n",
      "19\n",
      "18\n",
      "17\n",
      "16\n",
      "15\n",
      "14\n",
      "13\n",
      "12\n",
      "11\n",
      "10\n",
      "9\n",
      "8\n",
      "7\n",
      "6\n",
      "5\n"
     ]
    }
   ],
   "source": [
    "matrix2= [[int(input()) for i in range(q)]for j in range(n)]"
   ]
  },
  {
   "cell_type": "code",
   "execution_count": 12,
   "metadata": {},
   "outputs": [
    {
     "name": "stdout",
     "output_type": "stream",
     "text": [
      "[[20, 19, 18, 17], [16, 15, 14, 13], [12, 11, 10, 9], [8, 7, 6, 5]]\n"
     ]
    }
   ],
   "source": [
    "print(matrix2)"
   ]
  },
  {
   "cell_type": "code",
   "execution_count": 13,
   "metadata": {},
   "outputs": [
    {
     "name": "stdout",
     "output_type": "stream",
     "text": [
      "20   19   18   17   \n",
      "16   15   14   13   \n",
      "12   11   10   9    \n",
      "8    7    6    5    \n"
     ]
    }
   ],
   "source": [
    "for i in range(n):\n",
    "    for j in range(q):\n",
    "        print(format(matrix2[i][j],\"<5\"), end=\"\")\n",
    "    print()    "
   ]
  },
  {
   "cell_type": "code",
   "execution_count": 15,
   "metadata": {},
   "outputs": [],
   "source": [
    "result= [[0 for i in range(q) ]for j in range(p) ]"
   ]
  },
  {
   "cell_type": "code",
   "execution_count": 19,
   "metadata": {},
   "outputs": [
    {
     "name": "stdout",
     "output_type": "stream",
     "text": [
      "result is: \n",
      "240  220  200  180  \n",
      "688  636  584  532  \n",
      "1136 1052 968  884  \n",
      "1584 1468 1352 1236 \n",
      "2032 1884 1736 1588 \n"
     ]
    }
   ],
   "source": [
    "for i in range(p):\n",
    "    for j in range(q):\n",
    "        for k in range(n):\n",
    "            result[i][j] = result[i][j]+ matrix1[i][k]* matrix2[k][j]\n",
    "            \n",
    "print(\"result is: \")\n",
    "\n",
    "for i in range(p):\n",
    "    for j in range(q):\n",
    "        print(format(result[i][j],\"<5\"), end=\"\")\n",
    "    print()    "
   ]
  },
  {
   "cell_type": "code",
   "execution_count": null,
   "metadata": {},
   "outputs": [],
   "source": []
  }
 ],
 "metadata": {
  "kernelspec": {
   "display_name": "Python 3",
   "language": "python",
   "name": "python3"
  },
  "language_info": {
   "codemirror_mode": {
    "name": "ipython",
    "version": 3
   },
   "file_extension": ".py",
   "mimetype": "text/x-python",
   "name": "python",
   "nbconvert_exporter": "python",
   "pygments_lexer": "ipython3",
   "version": "3.8.3"
  }
 },
 "nbformat": 4,
 "nbformat_minor": 4
}
