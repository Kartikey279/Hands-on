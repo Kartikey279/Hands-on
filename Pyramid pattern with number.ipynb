{
 "cells": [
  {
   "cell_type": "code",
   "execution_count": 4,
   "metadata": {},
   "outputs": [
    {
     "name": "stdout",
     "output_type": "stream",
     "text": [
      "enter the number of rows: 10\n"
     ]
    }
   ],
   "source": [
    "num= int(input(\"enter the number of rows: \"))"
   ]
  },
  {
   "cell_type": "code",
   "execution_count": 5,
   "metadata": {},
   "outputs": [
    {
     "name": "stdout",
     "output_type": "stream",
     "text": [
      "         1\n",
      "        212\n",
      "       32123\n",
      "      4321234\n",
      "     543212345\n",
      "    65432123456\n",
      "   7654321234567\n",
      "  876543212345678\n",
      " 98765432123456789\n",
      "109876543212345678910\n"
     ]
    }
   ],
   "source": [
    "for i in range(1, num+1):\n",
    "    for j in range(1, num-i+1):\n",
    "        print (end= \" \")\n",
    "    for j in range (i, 0,-1):\n",
    "        print (j, end=\"\")\n",
    "    for j in range (2, i+1):\n",
    "        print(j,end=\"\")\n",
    "    print ()    \n",
    "        "
   ]
  },
  {
   "cell_type": "code",
   "execution_count": null,
   "metadata": {},
   "outputs": [],
   "source": [
    "|"
   ]
  }
 ],
 "metadata": {
  "kernelspec": {
   "display_name": "Python 3",
   "language": "python",
   "name": "python3"
  },
  "language_info": {
   "codemirror_mode": {
    "name": "ipython",
    "version": 3
   },
   "file_extension": ".py",
   "mimetype": "text/x-python",
   "name": "python",
   "nbconvert_exporter": "python",
   "pygments_lexer": "ipython3",
   "version": "3.8.3"
  }
 },
 "nbformat": 4,
 "nbformat_minor": 4
}
