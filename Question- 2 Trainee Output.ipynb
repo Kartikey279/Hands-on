{
 "cells": [
  {
   "cell_type": "markdown",
   "metadata": {},
   "source": [
    "### Selection of MPCS exams include a fitness test which is conducted on ground. There will be a batch of 3 trainees, appearing for running test in track for 3 rounds. You need to record their oxygen level after every round. After trainee are finished with all rounds, calculate for each trainee his average oxygen level over the 3 rounds and select one with highest oxygen level as the most fit trainee. If more than one trainee attains the same highest average level, they all need to be selected.\n",
    "\n",
    "### Display the most fit trainee (or trainees) and the highest average oxygen level.\n",
    "\n",
    "### Note:\n",
    "\n",
    "### The oxygen value entered should not be accepted if it is not in the range between 1 and 100.\n",
    "### If the calculated maximum average oxygen value of trainees is below 70 then declare the trainees as unfit with meaningful message as “All trainees are unfit.\n",
    "### Average Oxygen Values should be rounded.\n",
    "### Example 1:\n",
    "\n",
    "### INPUT VALUES\n",
    "            95\n",
    "\n",
    "            92\n",
    "\n",
    "            95\n",
    "\n",
    "            92\n",
    "\n",
    "            90\n",
    "\n",
    "            92\n",
    "\n",
    "            90\n",
    "\n",
    "            92\n",
    "\n",
    "            90\n",
    "\n",
    "### OUTPUT VALUES\n",
    "### Trainee Number : 1\n",
    "### Trainee Number : 3\n",
    "### Note:\n",
    "\n",
    "### Input should be 9 integer values representing oxygen levels entered in order as\n",
    "\n",
    "### Round 1\n",
    "\n",
    "### Oxygen value of trainee 1\n",
    "### Oxygen value of trainee 2\n",
    "### Oxygen value of trainee 3\n",
    "### Round 2\n",
    "\n",
    "### Oxygen value of trainee 1\n",
    "### Oxygen value of trainee 2\n",
    "### Oxygen value of trainee 3\n",
    "### Round 3\n",
    "\n",
    "### Oxygen value of trainee 1\n",
    "### Oxygen value of trainee 2\n",
    "### Oxygen value of trainee 3\n",
    "### Output must be in given format as in above example. For any wrong input final output should display “INVALID INPUT”"
   ]
  },
  {
   "cell_type": "code",
   "execution_count": 5,
   "metadata": {},
   "outputs": [
    {
     "name": "stdout",
     "output_type": "stream",
     "text": [
      "89\n",
      "90\n",
      "90\n",
      "95\n",
      "89\n",
      "96\n",
      "94\n",
      "93\n",
      "92\n",
      "Trainee Number:  1\n",
      "Trainee Number:  3\n"
     ]
    }
   ],
   "source": [
    "\n",
    "trainee = [[],[],[],[]]\n",
    "for i in range(3):\n",
    "    for j in range(3):\n",
    "        trainee[i].append(int(input()))\n",
    "        if(trainee[i][-1]) not in range(1,101):\n",
    "            print(\"invalid input\")\n",
    "            \n",
    "for i in range(3):\n",
    "    trainee[3].append((trainee[2][i]+trainee[1][i]+trainee[0][i])//3)\n",
    "    maximum = max(trainee[3])\n",
    "for i in range(3):\n",
    "    if trainee[3][i] < 70:\n",
    "        print(\"Trainee {0} is unfit\".format(i+1))\n",
    "    elif trainee[3][i] == maximum:\n",
    "        print(\"Trainee Number: \",i+1)"
   ]
  },
  {
   "cell_type": "code",
   "execution_count": null,
   "metadata": {},
   "outputs": [],
   "source": []
  }
 ],
 "metadata": {
  "kernelspec": {
   "display_name": "Python 3",
   "language": "python",
   "name": "python3"
  },
  "language_info": {
   "codemirror_mode": {
    "name": "ipython",
    "version": 3
   },
   "file_extension": ".py",
   "mimetype": "text/x-python",
   "name": "python",
   "nbconvert_exporter": "python",
   "pygments_lexer": "ipython3",
   "version": "3.8.3"
  }
 },
 "nbformat": 4,
 "nbformat_minor": 4
}
