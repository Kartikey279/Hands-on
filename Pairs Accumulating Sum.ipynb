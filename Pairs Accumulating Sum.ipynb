{
 "cells": [
  {
   "cell_type": "markdown",
   "metadata": {},
   "source": [
    "## Find the Given Pair of Numbers that accuumates upto the Given Sum."
   ]
  },
  {
   "cell_type": "code",
   "execution_count": 2,
   "metadata": {},
   "outputs": [
    {
     "name": "stdout",
     "output_type": "stream",
     "text": [
      "Values of pair are:  8 and 9\n"
     ]
    }
   ],
   "source": [
    "def Pairs(arr, sum):\n",
    "    arr.sort()\n",
    "    left=0\n",
    "    right=len(arr)-1\n",
    "    while(left<=right):\n",
    "        if(arr[left]+arr[right]>sum):\n",
    "            right=right-1\n",
    "        elif(arr[left]+arr[right]<sum):\n",
    "            left=left+1\n",
    "        elif(arr[left]+arr[right]==sum):\n",
    "            print(\"Values of pair are: \", arr[left],\"and\", arr[right])\n",
    "            right=right-1\n",
    "            left=left+1\n",
    "            \n",
    "arr= [4,6,5,3,9,8,1,21]\n",
    "sum=17\n",
    "Pairs(arr, sum)\n",
    "            "
   ]
  },
  {
   "cell_type": "code",
   "execution_count": null,
   "metadata": {},
   "outputs": [],
   "source": []
  }
 ],
 "metadata": {
  "kernelspec": {
   "display_name": "Python 3",
   "language": "python",
   "name": "python3"
  },
  "language_info": {
   "codemirror_mode": {
    "name": "ipython",
    "version": 3
   },
   "file_extension": ".py",
   "mimetype": "text/x-python",
   "name": "python",
   "nbconvert_exporter": "python",
   "pygments_lexer": "ipython3",
   "version": "3.8.3"
  }
 },
 "nbformat": 4,
 "nbformat_minor": 4
}
