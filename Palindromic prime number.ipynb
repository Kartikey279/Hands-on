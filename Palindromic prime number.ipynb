{
 "cells": [
  {
   "cell_type": "markdown",
   "metadata": {},
   "source": [
    "# Palindromic prime number"
   ]
  },
  {
   "cell_type": "code",
   "execution_count": 10,
   "metadata": {},
   "outputs": [
    {
     "name": "stdout",
     "output_type": "stream",
     "text": [
      "Enter the lower limit number:2\n"
     ]
    }
   ],
   "source": [
    "lower = int(input(\"Enter the lower limit number:\"))"
   ]
  },
  {
   "cell_type": "code",
   "execution_count": 11,
   "metadata": {},
   "outputs": [
    {
     "name": "stdout",
     "output_type": "stream",
     "text": [
      "Enter the upper limit number:200\n"
     ]
    }
   ],
   "source": [
    "upper = int(input(\"Enter the upper limit number:\"))"
   ]
  },
  {
   "cell_type": "code",
   "execution_count": 15,
   "metadata": {},
   "outputs": [
    {
     "name": "stdout",
     "output_type": "stream",
     "text": [
      "2 is palindromic prime number\n",
      "3 is palindromic prime number\n",
      "4 is not a prime number but it is a palindrome\n",
      "5 is palindromic prime number\n",
      "6 is not a prime number but it is a palindrome\n",
      "7 is palindromic prime number\n",
      "8 is not a prime number but it is a palindrome\n",
      "9 is not a prime number but it is a palindrome\n",
      "11 is palindromic prime number\n",
      "22 is not a prime number but it is a palindrome\n",
      "33 is not a prime number but it is a palindrome\n",
      "44 is not a prime number but it is a palindrome\n",
      "55 is not a prime number but it is a palindrome\n",
      "66 is not a prime number but it is a palindrome\n",
      "77 is not a prime number but it is a palindrome\n",
      "88 is not a prime number but it is a palindrome\n",
      "99 is not a prime number but it is a palindrome\n",
      "101 is palindromic prime number\n",
      "111 is not a prime number but it is a palindrome\n",
      "121 is not a prime number but it is a palindrome\n",
      "131 is palindromic prime number\n",
      "141 is not a prime number but it is a palindrome\n",
      "151 is palindromic prime number\n",
      "161 is not a prime number but it is a palindrome\n",
      "171 is not a prime number but it is a palindrome\n",
      "181 is palindromic prime number\n",
      "191 is palindromic prime number\n"
     ]
    }
   ],
   "source": [
    "for num in range (lower, upper+1):\n",
    "    reverse = int(str(num)[::-1])\n",
    "    if num==reverse:\n",
    "        if num>1:\n",
    "            for i in range(2, num):\n",
    "                if (num%i)==0:\n",
    "                    print(num, \"is not a prime number but it is a palindrome\")\n",
    "                    break\n",
    "            else:\n",
    "                print(num, \"is palindromic prime number\")\n",
    "    "
   ]
  }
 ],
 "metadata": {
  "kernelspec": {
   "display_name": "Python 3",
   "language": "python",
   "name": "python3"
  },
  "language_info": {
   "codemirror_mode": {
    "name": "ipython",
    "version": 3
   },
   "file_extension": ".py",
   "mimetype": "text/x-python",
   "name": "python",
   "nbconvert_exporter": "python",
   "pygments_lexer": "ipython3",
   "version": "3.8.3"
  }
 },
 "nbformat": 4,
 "nbformat_minor": 4
}
